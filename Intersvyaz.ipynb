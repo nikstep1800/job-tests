{
  "nbformat": 4,
  "nbformat_minor": 0,
  "metadata": {
    "kernelspec": {
      "display_name": "Python 3",
      "language": "python",
      "name": "python3"
    },
    "language_info": {
      "codemirror_mode": {
        "name": "ipython",
        "version": 3
      },
      "file_extension": ".py",
      "mimetype": "text/x-python",
      "name": "python",
      "nbconvert_exporter": "python",
      "pygments_lexer": "ipython3",
      "version": "3.7.3"
    },
    "colab": {
      "name": "Intersvyaz.ipynb",
      "provenance": []
    }
  },
  "cells": [
    {
      "cell_type": "code",
      "metadata": {
        "id": "Gz317pFwbEkG",
        "colab_type": "code",
        "colab": {}
      },
      "source": [
        "import pandas as pd"
      ],
      "execution_count": 0,
      "outputs": []
    },
    {
      "cell_type": "code",
      "metadata": {
        "id": "-LvrIm5FbEkf",
        "colab_type": "code",
        "colab": {}
      },
      "source": [
        "data = pd.read_csv('logs_mp_october.csv')"
      ],
      "execution_count": 0,
      "outputs": []
    },
    {
      "cell_type": "code",
      "metadata": {
        "id": "WEmPRZcQbEkz",
        "colab_type": "code",
        "outputId": "198f09c6-bc72-44fc-e7a9-27a341b5d220",
        "colab": {
          "base_uri": "https://localhost:8080/",
          "height": 206
        }
      },
      "source": [
        "data.head()"
      ],
      "execution_count": 96,
      "outputs": [
        {
          "output_type": "execute_result",
          "data": {
            "text/html": [
              "<div>\n",
              "<style scoped>\n",
              "    .dataframe tbody tr th:only-of-type {\n",
              "        vertical-align: middle;\n",
              "    }\n",
              "\n",
              "    .dataframe tbody tr th {\n",
              "        vertical-align: top;\n",
              "    }\n",
              "\n",
              "    .dataframe thead th {\n",
              "        text-align: right;\n",
              "    }\n",
              "</style>\n",
              "<table border=\"1\" class=\"dataframe\">\n",
              "  <thead>\n",
              "    <tr style=\"text-align: right;\">\n",
              "      <th></th>\n",
              "      <th>Unnamed: 0</th>\n",
              "      <th>user_id</th>\n",
              "      <th>device_id</th>\n",
              "      <th>event_date</th>\n",
              "      <th>track_id</th>\n",
              "    </tr>\n",
              "  </thead>\n",
              "  <tbody>\n",
              "    <tr>\n",
              "      <th>0</th>\n",
              "      <td>0</td>\n",
              "      <td>301766</td>\n",
              "      <td>555a04204e85a34b</td>\n",
              "      <td>2019-10-31 04:24:36</td>\n",
              "      <td>10.0</td>\n",
              "    </tr>\n",
              "    <tr>\n",
              "      <th>1</th>\n",
              "      <td>1</td>\n",
              "      <td>7599993</td>\n",
              "      <td>341a3dd038c9f962</td>\n",
              "      <td>2019-10-31 04:24:50</td>\n",
              "      <td>10.0</td>\n",
              "    </tr>\n",
              "    <tr>\n",
              "      <th>2</th>\n",
              "      <td>2</td>\n",
              "      <td>26828853</td>\n",
              "      <td>463BAFCE-3E8B-499A-8B93-1AD693CC5749</td>\n",
              "      <td>2019-10-31 04:24:54</td>\n",
              "      <td>10.0</td>\n",
              "    </tr>\n",
              "    <tr>\n",
              "      <th>3</th>\n",
              "      <td>3</td>\n",
              "      <td>301766</td>\n",
              "      <td>555a04204e85a34b</td>\n",
              "      <td>2019-10-31 04:25:05</td>\n",
              "      <td>10.0</td>\n",
              "    </tr>\n",
              "    <tr>\n",
              "      <th>4</th>\n",
              "      <td>4</td>\n",
              "      <td>20736809</td>\n",
              "      <td>21c2843aeef5931d</td>\n",
              "      <td>2019-10-31 04:25:07</td>\n",
              "      <td>10.0</td>\n",
              "    </tr>\n",
              "  </tbody>\n",
              "</table>\n",
              "</div>"
            ],
            "text/plain": [
              "   Unnamed: 0   user_id  ...           event_date track_id\n",
              "0           0    301766  ...  2019-10-31 04:24:36     10.0\n",
              "1           1   7599993  ...  2019-10-31 04:24:50     10.0\n",
              "2           2  26828853  ...  2019-10-31 04:24:54     10.0\n",
              "3           3    301766  ...  2019-10-31 04:25:05     10.0\n",
              "4           4  20736809  ...  2019-10-31 04:25:07     10.0\n",
              "\n",
              "[5 rows x 5 columns]"
            ]
          },
          "metadata": {
            "tags": []
          },
          "execution_count": 96
        }
      ]
    },
    {
      "cell_type": "code",
      "metadata": {
        "id": "zC77zE2Modnf",
        "colab_type": "code",
        "outputId": "c3238f68-3c5b-4db7-ea65-c1a4e99f5321",
        "colab": {
          "base_uri": "https://localhost:8080/",
          "height": 34
        }
      },
      "source": [
        "data.shape"
      ],
      "execution_count": 97,
      "outputs": [
        {
          "output_type": "execute_result",
          "data": {
            "text/plain": [
              "(705706, 5)"
            ]
          },
          "metadata": {
            "tags": []
          },
          "execution_count": 97
        }
      ]
    },
    {
      "cell_type": "code",
      "metadata": {
        "id": "2RBGLpEzoBUY",
        "colab_type": "code",
        "colab": {}
      },
      "source": [
        "data.drop_duplicates(subset =['user_id', 'track_id'], inplace = True) "
      ],
      "execution_count": 0,
      "outputs": []
    },
    {
      "cell_type": "code",
      "metadata": {
        "id": "QNH3a0l9oNSq",
        "colab_type": "code",
        "outputId": "58c7a68d-1356-4c44-bdf1-d3e529858773",
        "colab": {
          "base_uri": "https://localhost:8080/",
          "height": 34
        }
      },
      "source": [
        "data.shape"
      ],
      "execution_count": 99,
      "outputs": [
        {
          "output_type": "execute_result",
          "data": {
            "text/plain": [
              "(179975, 5)"
            ]
          },
          "metadata": {
            "tags": []
          },
          "execution_count": 99
        }
      ]
    },
    {
      "cell_type": "code",
      "metadata": {
        "id": "VW-k4eZMbtU6",
        "colab_type": "code",
        "outputId": "05f1cc51-aac2-49a1-ab45-efa6880a9717",
        "colab": {
          "base_uri": "https://localhost:8080/",
          "height": 156
        }
      },
      "source": [
        "print('###### 2 вопрос ######')\n",
        "print('Доля пользователей, которые посетили экран тех. поддержки: {0:.3}%'.format(data[data.track_id == 20].user_id.shape[0]*100/len(data.user_id.unique())))\n",
        "print('###### 1 вопрос ######')\n",
        "print('Самый популярный экраны среди пользователей\\nЭкран Кол-во посетивших\\n      пользователей\\n',data.track_id.value_counts().iloc[[0]])"
      ],
      "execution_count": 135,
      "outputs": [
        {
          "output_type": "stream",
          "text": [
            "###### 2 вопрос ######\n",
            "Доля пользователей, которые посетили экран тех. поддержки: 0.0119%\n",
            "###### 1 вопрос ######\n",
            "Самый популярный экраны среди пользователей\n",
            "Экран Кол-во посетивших\n",
            "      пользователей\n",
            " 4.0    73840\n",
            "Name: track_id, dtype: int64\n"
          ],
          "name": "stdout"
        }
      ]
    },
    {
      "cell_type": "code",
      "metadata": {
        "id": "uCr5RCiUoHY0",
        "colab_type": "code",
        "colab": {}
      },
      "source": [
        ""
      ],
      "execution_count": 0,
      "outputs": []
    }
  ]
}